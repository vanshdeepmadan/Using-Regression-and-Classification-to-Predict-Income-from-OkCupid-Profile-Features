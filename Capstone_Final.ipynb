{
 "cells": [
  {
   "cell_type": "code",
   "execution_count": 4,
   "id": "3bbc0cd7",
   "metadata": {},
   "outputs": [
    {
     "data": {
      "text/plain": [
       "0                 transportation\n",
       "1           hospitality / travel\n",
       "2                            NaN\n",
       "3                        student\n",
       "4    artistic / musical / writer\n",
       "Name: job, dtype: object"
      ]
     },
     "execution_count": 4,
     "metadata": {},
     "output_type": "execute_result"
    }
   ],
   "source": [
    "# Basic Data Handling\n",
    "import pandas as pd\n",
    "import numpy as np\n",
    "\n",
    "# Data Visualization\n",
    "import matplotlib.pyplot as plt\n",
    "import seaborn as sns\n",
    "\n",
    "# Machine Learning Models\n",
    "from sklearn.linear_model import LogisticRegression, LinearRegression\n",
    "from sklearn.ensemble import RandomForestClassifier\n",
    "from sklearn.neighbors import KNeighborsRegressor\n",
    "\n",
    "# Preprocessing and Model Evaluation\n",
    "from sklearn.model_selection import train_test_split\n",
    "from sklearn.metrics import accuracy_score, precision_score, recall_score, mean_squared_error, r2_score, classification_report\n",
    "from sklearn.preprocessing import LabelEncoder, StandardScaler\n",
    "\n",
    "df = pd.read_csv(\"profiles.csv\")\n",
    "df.job.head()"
   ]
  },
  {
   "cell_type": "markdown",
   "id": "ad41ce4b",
   "metadata": {},
   "source": [
    "# **Data Exploration**"
   ]
  },
  {
   "cell_type": "markdown",
   "id": "96bc7a64",
   "metadata": {},
   "source": [
    "## Age Distribution - Understanding Age brackets of users"
   ]
  },
  {
   "cell_type": "code",
   "execution_count": 5,
   "id": "0520c9cd",
   "metadata": {},
   "outputs": [
    {
     "data": {
      "image/png": "[encoded data removed]",
      "text/plain": [
       "<Figure size 432x288 with 1 Axes>"
      ]
     },
     "metadata": {
      "needs_background": "light"
     },
     "output_type": "display_data"
    }
   ],
   "source": [
    "plt.hist(df['age'].dropna(), bins=20)\n",
    "plt.xlabel(\"Age\")\n",
    "plt.ylabel(\"Frequency\")\n",
    "plt.title(\"Age Distribution of Users\")\n",
    "plt.show()\n"
   ]
  },
  {
   "cell_type": "markdown",
   "id": "d8e68722",
   "metadata": {},
   "source": [
    "Income vs. Essay Length: A scatter plot to see if there’s a visual correlation between income and essay length."
   ]
  },
  {
   "cell_type": "markdown",
   "id": "389b5e49",
   "metadata": {},
   "source": [
    "## Creating Essay Length Column and Avg Word Length Columns"
   ]
  },
  {
   "cell_type": "code",
   "execution_count": 9,
   "id": "fd0e3744",
   "metadata": {},
   "outputs": [
    {
     "data": {
      "text/html": [
       "<div>\n",
       "<style scoped>\n",
       "    .dataframe tbody tr th:only-of-type {\n",
       "        vertical-align: middle;\n",
       "    }\n",
       "\n",
       "    .dataframe tbody tr th {\n",
       "        vertical-align: top;\n",
       "    }\n",
       "\n",
       "    .dataframe thead th {\n",
       "        text-align: right;\n",
       "    }\n",
       "</style>\n",
       "<table border=\"1\" class=\"dataframe\">\n",
       "  <thead>\n",
       "    <tr style=\"text-align: right;\">\n",
       "      <th></th>\n",
       "      <th>essay_len</th>\n",
       "      <th>avg_word_len</th>\n",
       "      <th>income</th>\n",
       "      <th>job</th>\n",
       "      <th>status</th>\n",
       "    </tr>\n",
       "  </thead>\n",
       "  <tbody>\n",
       "    <tr>\n",
       "      <th>0</th>\n",
       "      <td>485</td>\n",
       "      <td>4.453608</td>\n",
       "      <td>-1</td>\n",
       "      <td>transportation</td>\n",
       "      <td>single</td>\n",
       "    </tr>\n",
       "    <tr>\n",
       "      <th>1</th>\n",
       "      <td>278</td>\n",
       "      <td>4.215827</td>\n",
       "      <td>80000</td>\n",
       "      <td>hospitality / travel</td>\n",
       "      <td>single</td>\n",
       "    </tr>\n",
       "    <tr>\n",
       "      <th>2</th>\n",
       "      <td>888</td>\n",
       "      <td>5.212838</td>\n",
       "      <td>-1</td>\n",
       "      <td>NaN</td>\n",
       "      <td>available</td>\n",
       "    </tr>\n",
       "    <tr>\n",
       "      <th>3</th>\n",
       "      <td>79</td>\n",
       "      <td>5.012658</td>\n",
       "      <td>20000</td>\n",
       "      <td>student</td>\n",
       "      <td>single</td>\n",
       "    </tr>\n",
       "    <tr>\n",
       "      <th>4</th>\n",
       "      <td>115</td>\n",
       "      <td>5.269565</td>\n",
       "      <td>-1</td>\n",
       "      <td>artistic / musical / writer</td>\n",
       "      <td>single</td>\n",
       "    </tr>\n",
       "  </tbody>\n",
       "</table>\n",
       "</div>"
      ],
      "text/plain": [
       "   essay_len  avg_word_len  income                          job     status\n",
       "0        485      4.453608      -1               transportation     single\n",
       "1        278      4.215827   80000         hospitality / travel     single\n",
       "2        888      5.212838      -1                          NaN  available\n",
       "3         79      5.012658   20000                      student     single\n",
       "4        115      5.269565      -1  artistic / musical / writer     single"
      ]
     },
     "execution_count": 9,
     "metadata": {},
     "output_type": "execute_result"
    }
   ],
   "source": [
    "# Combine all essay columns into a single text field for each user\n",
    "essay_columns = ['essay0', 'essay1', 'essay2', 'essay3', 'essay4', 'essay5', 'essay6', 'essay7', 'essay8', 'essay9']\n",
    "df['all_essays'] = df[essay_columns].fillna('').apply(lambda row: ' '.join(row), axis=1)\n",
    "\n",
    "# Calculate essay length as total word count\n",
    "df['essay_len'] = df['all_essays'].apply(lambda x: len(x.split()))\n",
    "\n",
    "# Calculate average word length in each user's essays\n",
    "df['avg_word_len'] = df['all_essays'].apply(lambda x: sum(len(word) for word in x.split()) / len(x.split()) if x.split() else 0)\n",
    "\n",
    "# Display the updated dataframe with the new columns\n",
    "df[['essay_len', 'avg_word_len', 'income', 'job', 'status']].head()\n"
   ]
  },
  {
   "cell_type": "markdown",
   "id": "8dbe8681",
   "metadata": {},
   "source": [
    "## Exploring Essay Length and Income relation"
   ]
  },
  {
   "cell_type": "code",
   "execution_count": 14,
   "id": "24803eb4",
   "metadata": {
    "scrolled": true
   },
   "outputs": [
    {
     "data": {
      "image/png": "[encoded data removed]",
      "text/plain": [
       "<Figure size 432x288 with 1 Axes>"
      ]
     },
     "metadata": {
      "needs_background": "light"
     },
     "output_type": "display_data"
    }
   ],
   "source": [
    "plt.scatter(df['essay_len'], df['income'])\n",
    "plt.xlabel(\"Essay Length\")\n",
    "plt.ylabel(\"Income\")\n",
    "plt.title(\"Income vs. Essay Length\")\n",
    "plt.show()\n"
   ]
  },
  {
   "cell_type": "markdown",
   "id": "b271d116",
   "metadata": {},
   "source": [
    "## Exploring Avg Word Length and Income Relation"
   ]
  },
  {
   "cell_type": "code",
   "execution_count": 11,
   "id": "7e8b3f65",
   "metadata": {
    "scrolled": false
   },
   "outputs": [
    {
     "data": {
      "image/png": "[encoded data removed]",
      "text/plain": [
       "<Figure size 432x288 with 1 Axes>"
      ]
     },
     "metadata": {
      "needs_background": "light"
     },
     "output_type": "display_data"
    }
   ],
   "source": [
    "plt.scatter(df['avg_word_len'], df['income'])\n",
    "plt.xlabel(\"Avg Word Length\")\n",
    "plt.ylabel(\"Income\")\n",
    "plt.title(\"Income vs. Avg Word Length\")\n",
    "plt.show()\n"
   ]
  },
  {
   "cell_type": "markdown",
   "id": "b6fd2643",
   "metadata": {},
   "source": [
    "## Regression Analysis"
   ]
  },
  {
   "cell_type": "markdown",
   "id": "97d82335",
   "metadata": {},
   "source": [
    "## Can a user’s income be predicted based on essay length and average word length?"
   ]
  },
  {
   "cell_type": "markdown",
   "id": "1feda8f1",
   "metadata": {},
   "source": [
    "Essay Length refers to all the answers the user has written to the prompt questions on their OKCupid profile"
   ]
  },
  {
   "cell_type": "markdown",
   "id": "742828c7",
   "metadata": {},
   "source": [
    "Null Hypothesis (H0): Essay length and average word length are not significant predictors of income.\n"
   ]
  },
  {
   "cell_type": "markdown",
   "id": "d4401acc",
   "metadata": {},
   "source": [
    "Alternative Hypothesis (H1): Essay length and average word length are significant predictors of income."
   ]
  },
  {
   "cell_type": "markdown",
   "id": "52814fa0",
   "metadata": {},
   "source": [
    "### Using Linear Regresion"
   ]
  },
  {
   "cell_type": "code",
   "execution_count": 15,
   "id": "c2f7c0c0",
   "metadata": {},
   "outputs": [
    {
     "name": "stdout",
     "output_type": "stream",
     "text": [
      "Linear Regression Mean Squared Error: 9746602289.232325\n",
      "Linear Regression R² Score: -0.009503140174760505\n"
     ]
    }
   ],
   "source": [
    "from sklearn.model_selection import train_test_split\n",
    "from sklearn.linear_model import LinearRegression\n",
    "from sklearn.metrics import mean_squared_error, r2_score\n",
    "\n",
    "# Select features and target variable\n",
    "X = df[['essay_len', 'avg_word_len']]\n",
    "y = df['income']\n",
    "\n",
    "# Split data into training and test sets\n",
    "X_train, X_test, y_train, y_test = train_test_split(X, y, test_size=0.2, random_state=42)\n",
    "\n",
    "# Initialize and train the Linear Regression model\n",
    "linear_model = LinearRegression()\n",
    "linear_model.fit(X_train, y_train)\n",
    "\n",
    "# Make predictions and evaluate the model\n",
    "y_pred = linear_model.predict(X_test)\n",
    "mse = mean_squared_error(y_test, y_pred)\n",
    "r2 = r2_score(y_test, y_pred)\n",
    "\n",
    "print(f\"Linear Regression Mean Squared Error: {mse}\")\n",
    "print(f\"Linear Regression R² Score: {r2}\")\n"
   ]
  },
  {
   "cell_type": "markdown",
   "id": "60f4f693",
   "metadata": {},
   "source": [
    "### Using K- Nearest Neighbour Regression"
   ]
  },
  {
   "cell_type": "code",
   "execution_count": 16,
   "id": "31942fe4",
   "metadata": {
    "scrolled": true
   },
   "outputs": [
    {
     "name": "stdout",
     "output_type": "stream",
     "text": [
      "K-Nearest Neighbors Mean Squared Error: 11628874477.515606\n",
      "K-Nearest Neighbors R² Score: -0.20445925188917968\n"
     ]
    }
   ],
   "source": [
    "from sklearn.neighbors import KNeighborsRegressor\n",
    "\n",
    "# Initialize and train the KNN Regression model\n",
    "knn_model = KNeighborsRegressor(n_neighbors=5)\n",
    "knn_model.fit(X_train, y_train)\n",
    "\n",
    "# Make predictions and evaluate the model\n",
    "y_pred_knn = knn_model.predict(X_test)\n",
    "mse_knn = mean_squared_error(y_test, y_pred_knn)\n",
    "r2_knn = r2_score(y_test, y_pred_knn)\n",
    "\n",
    "print(f\"K-Nearest Neighbors Mean Squared Error: {mse_knn}\")\n",
    "print(f\"K-Nearest Neighbors R² Score: {r2_knn}\")\n"
   ]
  },
  {
   "cell_type": "markdown",
   "id": "cca95594",
   "metadata": {},
   "source": [
    "## Regression - Conclusion"
   ]
  },
  {
   "cell_type": "markdown",
   "id": "2a83b3b8",
   "metadata": {},
   "source": [
    "Both Linear Regression and K-Nearest Neighbors Regression performed poorly in predicting income based on essay length and average word length. The Linear Regression model achieved a slightly lower MSE (9.7 billion) and higher R² score (-0.0095) than K-Nearest Neighbors (MSE of 11.6 billion, R² of -0.2045), though both scores were negative, indicating that neither model explained the variance in income effectively.\n",
    "\n",
    "These results suggest that essay characteristics alone are insufficient predictors of income. Additional or alternative features, like education or job type, may be needed for better predictive accuracy.\n",
    "\n",
    "Thus Null Hypothesis (H0) Essay length and average word length are not significant predictors of income is accepted"
   ]
  },
  {
   "cell_type": "markdown",
   "id": "7c60f8ab",
   "metadata": {},
   "source": [
    "# Classification"
   ]
  },
  {
   "cell_type": "markdown",
   "id": "c2a591bf",
   "metadata": {},
   "source": [
    "## Can we classify users’ income level based on their education and body type?"
   ]
  },
  {
   "cell_type": "code",
   "execution_count": 23,
   "id": "6a54be36",
   "metadata": {},
   "outputs": [],
   "source": [
    "from sklearn.preprocessing import LabelEncoder\n",
    "\n",
    "# Filter data to include only relevant columns and drop rows with missing values\n",
    "df_classification = df[['income', 'education', 'body_type']].dropna()\n",
    "\n",
    "# Encode categorical variables\n",
    "education_encoder = LabelEncoder()\n",
    "body_type_encoder = LabelEncoder()\n",
    "\n",
    "df_classification['education_code'] = education_encoder.fit_transform(df_classification['education'])\n",
    "df_classification['body_type_code'] = body_type_encoder.fit_transform(df_classification['body_type'])\n",
    "\n",
    "# Define income brackets (e.g., Low, Medium, High) based on income distribution\n",
    "# Adjust these thresholds as needed\n",
    "df_classification['income_bracket'] = pd.cut(df_classification['income'], bins=[-1, 20000, 60000, 100000, float('inf')],\n",
    "                                             labels=['Low', 'Medium', 'High', 'Very High'])\n",
    "\n",
    "# Encode income brackets as numerical labels\n",
    "income_encoder = LabelEncoder()\n",
    "df_classification['income_bracket_code'] = income_encoder.fit_transform(df_classification['income_bracket'])\n",
    "\n",
    "# Define features and target variable\n",
    "X = df_classification[['education_code', 'body_type_code']]\n",
    "y = df_classification['income_bracket_code']\n"
   ]
  },
  {
   "cell_type": "code",
   "execution_count": 24,
   "id": "1d3305fe",
   "metadata": {},
   "outputs": [],
   "source": [
    "from sklearn.model_selection import train_test_split\n",
    "\n",
    "# Split the data into training and testing sets\n",
    "X_train, X_test, y_train, y_test = train_test_split(X, y, test_size=0.2, random_state=42)\n"
   ]
  },
  {
   "cell_type": "markdown",
   "id": "0604a32f",
   "metadata": {},
   "source": [
    "## Logistic Regression"
   ]
  },
  {
   "cell_type": "code",
   "execution_count": 29,
   "id": "5ded50c1",
   "metadata": {
    "scrolled": true
   },
   "outputs": [
    {
     "name": "stdout",
     "output_type": "stream",
     "text": [
      "Logistic Regression Results:\n",
      "Accuracy: 0.2101982423870836\n",
      "              precision    recall  f1-score   support\n",
      "\n",
      "        High       0.08      0.71      0.14       611\n",
      "         Low       0.13      0.54      0.21       528\n",
      "      Medium       0.10      0.06      0.07       683\n",
      "   Very High       0.03      0.02      0.03       250\n",
      "         nan       0.83      0.17      0.28      7714\n",
      "\n",
      "    accuracy                           0.21      9786\n",
      "   macro avg       0.23      0.30      0.15      9786\n",
      "weighted avg       0.67      0.21      0.25      9786\n",
      "\n"
     ]
    }
   ],
   "source": [
    "# Remove rows where income_bracket is \"nan\"\n",
    "df_classification = df_classification[df_classification['income_bracket'] != 'nan']\n",
    "\n",
    "# Encode income brackets again without the \"nan\" category\n",
    "income_encoder = LabelEncoder()\n",
    "df_classification['income_bracket_code'] = income_encoder.fit_transform(df_classification['income_bracket'])\n",
    "\n",
    "# Define features and target variable without \"nan\" class\n",
    "X = df_classification[['education_code', 'body_type_code']]\n",
    "y = df_classification['income_bracket_code']\n",
    "\n",
    "# Split the data\n",
    "X_train, X_test, y_train, y_test = train_test_split(X, y, test_size=0.2, random_state=42)\n",
    "\n",
    "# Logistic Regression with class weights\n",
    "log_reg = LogisticRegression(class_weight='balanced')\n",
    "log_reg.fit(X_train, y_train)\n",
    "\n",
    "y_pred_log = log_reg.predict(X_test)\n",
    "target_names = [str(label) for label in income_encoder.classes_]\n",
    "\n",
    "print(\"Logistic Regression Results:\")\n",
    "print(\"Accuracy:\", accuracy_score(y_test, y_pred_log))\n",
    "print(classification_report(y_test, y_pred_log, target_names=target_names, zero_division=0))\n"
   ]
  },
  {
   "cell_type": "markdown",
   "id": "fda44dfd",
   "metadata": {},
   "source": [
    "### Random Forest"
   ]
  },
  {
   "cell_type": "code",
   "execution_count": 30,
   "id": "84201d06",
   "metadata": {
    "scrolled": false
   },
   "outputs": [
    {
     "name": "stdout",
     "output_type": "stream",
     "text": [
      "Random Forest Results:\n",
      "Accuracy: 0.19946862865317802\n",
      "              precision    recall  f1-score   support\n",
      "\n",
      "        High       0.08      0.57      0.14       611\n",
      "         Low       0.16      0.55      0.24       528\n",
      "      Medium       0.12      0.16      0.14       683\n",
      "   Very High       0.07      0.34      0.11       250\n",
      "         nan       0.85      0.14      0.25      7714\n",
      "\n",
      "    accuracy                           0.20      9786\n",
      "   macro avg       0.25      0.35      0.18      9786\n",
      "weighted avg       0.70      0.20      0.23      9786\n",
      "\n"
     ]
    }
   ],
   "source": [
    "from sklearn.ensemble import RandomForestClassifier\n",
    "from sklearn.metrics import accuracy_score, classification_report\n",
    "\n",
    "# Remove rows where income_bracket is \"nan\"\n",
    "df_classification = df_classification[df_classification['income_bracket'] != 'nan']\n",
    "\n",
    "# Encode income brackets again without the \"nan\" category\n",
    "income_encoder = LabelEncoder()\n",
    "df_classification['income_bracket_code'] = income_encoder.fit_transform(df_classification['income_bracket'])\n",
    "\n",
    "# Define features and target variable without \"nan\" class\n",
    "X = df_classification[['education_code', 'body_type_code']]\n",
    "y = df_classification['income_bracket_code']\n",
    "\n",
    "# Split the data into training and testing sets\n",
    "X_train, X_test, y_train, y_test = train_test_split(X, y, test_size=0.2, random_state=42)\n",
    "\n",
    "# Initialize and train the Random Forest model with balanced class weights\n",
    "rf_classifier = RandomForestClassifier(class_weight='balanced', random_state=42)\n",
    "rf_classifier.fit(X_train, y_train)\n",
    "\n",
    "# Predict and evaluate\n",
    "y_pred_rf = rf_classifier.predict(X_test)\n",
    "target_names = [str(label) for label in income_encoder.classes_]  # Ensure target names are strings\n",
    "\n",
    "print(\"Random Forest Results:\")\n",
    "print(\"Accuracy:\", accuracy_score(y_test, y_pred_rf))\n",
    "print(classification_report(y_test, y_pred_rf, target_names=target_names, zero_division=0))\n"
   ]
  },
  {
   "cell_type": "markdown",
   "id": "01d2570b",
   "metadata": {},
   "source": [
    "### Classification - Conclusion"
   ]
  },
  {
   "cell_type": "markdown",
   "id": "ca90506c",
   "metadata": {},
   "source": [
    "Based on the analysis, we explored whether users' income levels could be predicted using education and body type as features, using both Logistic Regression and Random Forest models. Here are the main findings and conclusions:\n",
    "\n",
    "Key Findings\n",
    "Low Predictive Accuracy: Both Logistic Regression and Random Forest achieved low accuracy scores (around 20%) for predicting income brackets. Precision, recall, and F1-scores were also low across all income categories, indicating that the models struggled to make meaningful predictions.\n",
    "\n",
    "Class Imbalance: Despite efforts to balance classes, the \"nan\" category (likely representing missing or unspecified income data) dominated the predictions. This imbalance significantly affected the models’ ability to identify other income brackets.\n",
    "\n",
    "Weak Correlation Between Features and Income: Education level and body type alone did not provide strong predictive power for income brackets, suggesting that additional or alternative features may be needed to capture meaningful patterns in income.\n",
    "\n",
    "Conclusion\n",
    "The analysis indicates that education level and body type alone are insufficient predictors of income for this dataset. The models struggled to distinguish between income brackets, likely due to limited predictive power in these features and the presence of significant class imbalance.\n",
    "\n",
    "Recommendations\n",
    "To improve predictive accuracy, future analyses could:\n",
    "\n",
    "Incorporate additional features that may have a stronger correlation with income, such as job type, age, or location.\n",
    "Remove missing values more rigorously to prevent the \"nan\" class from influencing model performance.\n",
    "Experiment with feature engineering and sampling techniques to balance classes further.\n",
    "In conclusion, while this analysis provided insights into the challenges of predicting income based on limited features, it also highlighted areas for improvement and further exploration."
   ]
  }
 ],
 "metadata": {
  "kernelspec": {
   "display_name": "Python 3",
   "language": "python",
   "name": "python3"
  },
  "language_info": {
   "codemirror_mode": {
    "name": "ipython",
    "version": 3
   },
   "file_extension": ".py",
   "mimetype": "text/x-python",
   "name": "python",
   "nbconvert_exporter": "python",
   "pygments_lexer": "ipython3",
   "version": "3.8.8"
  }
 },
 "nbformat": 4,
 "nbformat_minor": 5
}
